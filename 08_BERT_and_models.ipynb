{
 "cells": [
  {
   "cell_type": "markdown",
   "metadata": {},
   "source": [
    "# Classification using BERT"
   ]
  },
  {
   "cell_type": "markdown",
   "metadata": {},
   "source": [
    "## Getting started"
   ]
  },
  {
   "cell_type": "markdown",
   "metadata": {},
   "source": [
    "* Import dependencies\n",
    "* Read BERT's embeddings which have been pickled"
   ]
  },
  {
   "cell_type": "code",
   "execution_count": 82,
   "metadata": {},
   "outputs": [],
   "source": [
    "import pandas as pd\n",
    "import numpy as np\n",
    "import pickle as pkl\n",
    "import tensorflow as tf\n",
    "import matplotlib.pyplot as plt\n",
    "\n",
    "from sklearn.metrics import accuracy_score, f1_score\n",
    "from sklearn.model_selection import GridSearchCV\n",
    "\n",
    "from src.utils.viz import *\n",
    "\n",
    "plt.style.use('ggplot')"
   ]
  },
  {
   "cell_type": "markdown",
   "metadata": {},
   "source": [
    "We will read BERT's output from previous notebook. These will serve as inputs for further models."
   ]
  },
  {
   "cell_type": "code",
   "execution_count": 83,
   "metadata": {},
   "outputs": [],
   "source": [
    "with open('./data/embeddings_train.pkl', 'rb') as f:\n",
    "    train_embeddings = pkl.load(f)\n",
    "    \n",
    "with open('./data/embeddings_test.pkl', 'rb') as f:\n",
    "    test_embeddings = pkl.load(f)"
   ]
  },
  {
   "cell_type": "markdown",
   "metadata": {},
   "source": [
    "We read the labels."
   ]
  },
  {
   "cell_type": "code",
   "execution_count": 84,
   "metadata": {},
   "outputs": [],
   "source": [
    "df = pd.read_csv('./data/clean_entire_corpus.csv')\n",
    "\n",
    "y_train = df[df['source'] == 'train']['target']\n",
    "y_test = df[df['source'] == 'test']['target']"
   ]
  },
  {
   "cell_type": "markdown",
   "metadata": {},
   "source": [
    "## Training models\n",
    "\n",
    "We are going to test out several ML models and compare their performance's score. We will apply a grid search to find the best parameters."
   ]
  },
  {
   "cell_type": "markdown",
   "metadata": {},
   "source": [
    "### K-Nearest-Neighbors"
   ]
  },
  {
   "cell_type": "code",
   "execution_count": 93,
   "metadata": {},
   "outputs": [
    {
     "name": "stdout",
     "output_type": "stream",
     "text": [
      "Fitting 5 folds for each of 4 candidates, totalling 20 fits\n",
      "[CV] n_neighbors=11 ..................................................\n"
     ]
    },
    {
     "name": "stderr",
     "output_type": "stream",
     "text": [
      "[Parallel(n_jobs=1)]: Using backend SequentialBackend with 1 concurrent workers.\n"
     ]
    },
    {
     "name": "stdout",
     "output_type": "stream",
     "text": [
      "[CV] ...................... n_neighbors=11, score=0.879, total=  13.4s\n",
      "[CV] n_neighbors=11 ..................................................\n"
     ]
    },
    {
     "name": "stderr",
     "output_type": "stream",
     "text": [
      "[Parallel(n_jobs=1)]: Done   1 out of   1 | elapsed:   13.3s remaining:    0.0s\n"
     ]
    },
    {
     "name": "stdout",
     "output_type": "stream",
     "text": [
      "[CV] ...................... n_neighbors=11, score=0.856, total=  13.5s\n",
      "[CV] n_neighbors=11 ..................................................\n"
     ]
    },
    {
     "name": "stderr",
     "output_type": "stream",
     "text": [
      "[Parallel(n_jobs=1)]: Done   2 out of   2 | elapsed:   26.9s remaining:    0.0s\n"
     ]
    },
    {
     "name": "stdout",
     "output_type": "stream",
     "text": [
      "[CV] ...................... n_neighbors=11, score=0.876, total=  13.4s\n",
      "[CV] n_neighbors=11 ..................................................\n",
      "[CV] ...................... n_neighbors=11, score=0.857, total=  13.5s\n",
      "[CV] n_neighbors=11 ..................................................\n",
      "[CV] ...................... n_neighbors=11, score=0.879, total=  13.6s\n",
      "[CV] n_neighbors=13 ..................................................\n",
      "[CV] ...................... n_neighbors=13, score=0.885, total=  13.5s\n",
      "[CV] n_neighbors=13 ..................................................\n",
      "[CV] ...................... n_neighbors=13, score=0.857, total=  14.5s\n",
      "[CV] n_neighbors=13 ..................................................\n",
      "[CV] ...................... n_neighbors=13, score=0.880, total=  13.5s\n",
      "[CV] n_neighbors=13 ..................................................\n",
      "[CV] ...................... n_neighbors=13, score=0.858, total=  13.8s\n",
      "[CV] n_neighbors=13 ..................................................\n",
      "[CV] ...................... n_neighbors=13, score=0.883, total=  15.0s\n",
      "[CV] n_neighbors=15 ..................................................\n",
      "[CV] ...................... n_neighbors=15, score=0.887, total=  14.9s\n",
      "[CV] n_neighbors=15 ..................................................\n",
      "[CV] ...................... n_neighbors=15, score=0.863, total=  15.2s\n",
      "[CV] n_neighbors=15 ..................................................\n",
      "[CV] ...................... n_neighbors=15, score=0.880, total=  15.1s\n",
      "[CV] n_neighbors=15 ..................................................\n",
      "[CV] ...................... n_neighbors=15, score=0.855, total=  13.5s\n",
      "[CV] n_neighbors=15 ..................................................\n",
      "[CV] ...................... n_neighbors=15, score=0.883, total=  13.5s\n",
      "[CV] n_neighbors=17 ..................................................\n",
      "[CV] ...................... n_neighbors=17, score=0.883, total=  13.8s\n",
      "[CV] n_neighbors=17 ..................................................\n",
      "[CV] ...................... n_neighbors=17, score=0.860, total=  13.6s\n",
      "[CV] n_neighbors=17 ..................................................\n",
      "[CV] ...................... n_neighbors=17, score=0.882, total=  13.6s\n",
      "[CV] n_neighbors=17 ..................................................\n",
      "[CV] ...................... n_neighbors=17, score=0.857, total=  13.6s\n",
      "[CV] n_neighbors=17 ..................................................\n",
      "[CV] ...................... n_neighbors=17, score=0.886, total=  15.3s\n"
     ]
    },
    {
     "name": "stderr",
     "output_type": "stream",
     "text": [
      "[Parallel(n_jobs=1)]: Done  20 out of  20 | elapsed:  4.7min finished\n"
     ]
    },
    {
     "data": {
      "text/plain": [
       "GridSearchCV(estimator=KNeighborsClassifier(),\n",
       "             param_grid={'n_neighbors': [11, 13, 15, 17]}, verbose=3)"
      ]
     },
     "execution_count": 93,
     "metadata": {},
     "output_type": "execute_result"
    }
   ],
   "source": [
    "from sklearn.neighbors import KNeighborsClassifier\n",
    "\n",
    "params = {'n_neighbors': [11, 13, 15, 17]}\n",
    "neigh = KNeighborsClassifier()\n",
    "clf = GridSearchCV(neigh, params, verbose=3)\n",
    "clf.fit(train_embeddings, y_train)"
   ]
  },
  {
   "cell_type": "code",
   "execution_count": 94,
   "metadata": {},
   "outputs": [
    {
     "name": "stdout",
     "output_type": "stream",
     "text": [
      "{'n_neighbors': 17}\n"
     ]
    }
   ],
   "source": [
    "neigh = KNeighborsClassifier(**clf.best_params_)\n",
    "neigh.fit(train_embeddings, y_train)\n",
    "print(clf.best_params_)\n",
    "y_pred = neigh.predict(test_embeddings)"
   ]
  },
  {
   "cell_type": "code",
   "execution_count": 95,
   "metadata": {},
   "outputs": [
    {
     "name": "stdout",
     "output_type": "stream",
     "text": [
      "Accuracy 0.8421697824088262\n",
      "f1-score 0.8001552192471867\n"
     ]
    },
    {
     "data": {
      "image/png": "[encoded data removed]",
      "text/plain": [
       "<Figure size 432x432 with 2 Axes>"
      ]
     },
     "metadata": {},
     "output_type": "display_data"
    }
   ],
   "source": [
    "plot_confusion_matrix(y_test, y_pred)\n",
    "print(f'Accuracy {accuracy_score(y_pred, y_test)}')\n",
    "print(f'f1-score {f1_score(y_pred, y_test)}')"
   ]
  },
  {
   "cell_type": "markdown",
   "metadata": {},
   "source": [
    "### Support Vector Machine classifier"
   ]
  },
  {
   "cell_type": "code",
   "execution_count": 88,
   "metadata": {},
   "outputs": [
    {
     "data": {
      "text/plain": [
       "SVC(degree=2, kernel='poly')"
      ]
     },
     "execution_count": 88,
     "metadata": {},
     "output_type": "execute_result"
    }
   ],
   "source": [
    "from sklearn.svm import SVC\n",
    "\n",
    "clf = SVC(degree=2, kernel='poly')\n",
    "clf.fit(train_embeddings, y_train)"
   ]
  },
  {
   "cell_type": "code",
   "execution_count": 89,
   "metadata": {},
   "outputs": [
    {
     "name": "stdout",
     "output_type": "stream",
     "text": [
      "Accuracy 0.8378792522218818\n",
      "f1-score 0.7931169339069221\n"
     ]
    },
    {
     "data": {
      "image/png": "[encoded data removed]",
      "text/plain": [
       "<Figure size 432x432 with 2 Axes>"
      ]
     },
     "metadata": {},
     "output_type": "display_data"
    }
   ],
   "source": [
    "y_pred = clf.predict(test_embeddings)\n",
    "plot_confusion_matrix(y_test, y_pred)\n",
    "print(f'Accuracy {accuracy_score(y_pred, y_test)}')\n",
    "print(f'f1-score {f1_score(y_pred, y_test)}')"
   ]
  },
  {
   "cell_type": "markdown",
   "metadata": {},
   "source": [
    "### Random Forest classifier"
   ]
  },
  {
   "cell_type": "code",
   "execution_count": 90,
   "metadata": {},
   "outputs": [
    {
     "name": "stdout",
     "output_type": "stream",
     "text": [
      "Fitting 5 folds for each of 6 candidates, totalling 30 fits\n",
      "[CV] max_depth=6 .....................................................\n"
     ]
    },
    {
     "name": "stderr",
     "output_type": "stream",
     "text": [
      "[Parallel(n_jobs=1)]: Using backend SequentialBackend with 1 concurrent workers.\n"
     ]
    },
    {
     "name": "stdout",
     "output_type": "stream",
     "text": [
      "[CV] ......................... max_depth=6, score=0.883, total=   7.8s\n",
      "[CV] max_depth=6 .....................................................\n"
     ]
    },
    {
     "name": "stderr",
     "output_type": "stream",
     "text": [
      "[Parallel(n_jobs=1)]: Done   1 out of   1 | elapsed:    7.7s remaining:    0.0s\n"
     ]
    },
    {
     "name": "stdout",
     "output_type": "stream",
     "text": [
      "[CV] ......................... max_depth=6, score=0.858, total=   8.1s\n",
      "[CV] max_depth=6 .....................................................\n"
     ]
    },
    {
     "name": "stderr",
     "output_type": "stream",
     "text": [
      "[Parallel(n_jobs=1)]: Done   2 out of   2 | elapsed:   15.8s remaining:    0.0s\n"
     ]
    },
    {
     "name": "stdout",
     "output_type": "stream",
     "text": [
      "[CV] ......................... max_depth=6, score=0.883, total=   7.8s\n",
      "[CV] max_depth=6 .....................................................\n",
      "[CV] ......................... max_depth=6, score=0.860, total=   7.7s\n",
      "[CV] max_depth=6 .....................................................\n",
      "[CV] ......................... max_depth=6, score=0.893, total=   7.7s\n",
      "[CV] max_depth=8 .....................................................\n",
      "[CV] ......................... max_depth=8, score=0.887, total=   9.7s\n",
      "[CV] max_depth=8 .....................................................\n",
      "[CV] ......................... max_depth=8, score=0.857, total=   9.6s\n",
      "[CV] max_depth=8 .....................................................\n",
      "[CV] ......................... max_depth=8, score=0.884, total=   9.3s\n",
      "[CV] max_depth=8 .....................................................\n",
      "[CV] ......................... max_depth=8, score=0.869, total=   9.0s\n",
      "[CV] max_depth=8 .....................................................\n",
      "[CV] ......................... max_depth=8, score=0.895, total=   9.0s\n",
      "[CV] max_depth=10 ....................................................\n",
      "[CV] ........................ max_depth=10, score=0.886, total=  10.6s\n",
      "[CV] max_depth=10 ....................................................\n",
      "[CV] ........................ max_depth=10, score=0.861, total=  10.6s\n",
      "[CV] max_depth=10 ....................................................\n",
      "[CV] ........................ max_depth=10, score=0.888, total=  10.5s\n",
      "[CV] max_depth=10 ....................................................\n",
      "[CV] ........................ max_depth=10, score=0.865, total=  10.6s\n",
      "[CV] max_depth=10 ....................................................\n",
      "[CV] ........................ max_depth=10, score=0.893, total=  10.6s\n",
      "[CV] max_depth=12 ....................................................\n",
      "[CV] ........................ max_depth=12, score=0.885, total=  11.9s\n",
      "[CV] max_depth=12 ....................................................\n",
      "[CV] ........................ max_depth=12, score=0.862, total=  12.0s\n",
      "[CV] max_depth=12 ....................................................\n",
      "[CV] ........................ max_depth=12, score=0.886, total=  11.8s\n",
      "[CV] max_depth=12 ....................................................\n",
      "[CV] ........................ max_depth=12, score=0.862, total=  12.2s\n",
      "[CV] max_depth=12 ....................................................\n",
      "[CV] ........................ max_depth=12, score=0.897, total=  12.0s\n",
      "[CV] max_depth=14 ....................................................\n",
      "[CV] ........................ max_depth=14, score=0.887, total=  13.5s\n",
      "[CV] max_depth=14 ....................................................\n",
      "[CV] ........................ max_depth=14, score=0.863, total=  13.8s\n",
      "[CV] max_depth=14 ....................................................\n",
      "[CV] ........................ max_depth=14, score=0.887, total=  13.7s\n",
      "[CV] max_depth=14 ....................................................\n",
      "[CV] ........................ max_depth=14, score=0.864, total=  13.6s\n",
      "[CV] max_depth=14 ....................................................\n",
      "[CV] ........................ max_depth=14, score=0.888, total=  13.7s\n",
      "[CV] max_depth=16 ....................................................\n",
      "[CV] ........................ max_depth=16, score=0.885, total=  14.3s\n",
      "[CV] max_depth=16 ....................................................\n",
      "[CV] ........................ max_depth=16, score=0.860, total=  14.5s\n",
      "[CV] max_depth=16 ....................................................\n",
      "[CV] ........................ max_depth=16, score=0.887, total=  15.7s\n",
      "[CV] max_depth=16 ....................................................\n",
      "[CV] ........................ max_depth=16, score=0.864, total=  15.9s\n",
      "[CV] max_depth=16 ....................................................\n",
      "[CV] ........................ max_depth=16, score=0.891, total=  15.9s\n"
     ]
    },
    {
     "name": "stderr",
     "output_type": "stream",
     "text": [
      "[Parallel(n_jobs=1)]: Done  30 out of  30 | elapsed:  5.7min finished\n"
     ]
    },
    {
     "data": {
      "text/plain": [
       "GridSearchCV(estimator=RandomForestClassifier(),\n",
       "             param_grid={'max_depth': [6, 8, 10, 12, 14, 16]}, verbose=3)"
      ]
     },
     "execution_count": 90,
     "metadata": {},
     "output_type": "execute_result"
    }
   ],
   "source": [
    "from sklearn.ensemble import RandomForestClassifier\n",
    "\n",
    "params = {'max_depth':[6, 8, 10, 12, 14, 16]}\n",
    "rdf = RandomForestClassifier()\n",
    "grid = GridSearchCV(rdf, params, verbose=3)\n",
    "grid.fit(train_embeddings, y_train)"
   ]
  },
  {
   "cell_type": "code",
   "execution_count": 91,
   "metadata": {},
   "outputs": [
    {
     "data": {
      "text/plain": [
       "RandomForestClassifier(max_depth=10)"
      ]
     },
     "execution_count": 91,
     "metadata": {},
     "output_type": "execute_result"
    }
   ],
   "source": [
    "rdf = RandomForestClassifier(**grid.best_params_)\n",
    "rdf.fit(train_embeddings, y_train)"
   ]
  },
  {
   "cell_type": "code",
   "execution_count": 92,
   "metadata": {},
   "outputs": [
    {
     "name": "stdout",
     "output_type": "stream",
     "text": [
      "Accuracy 0.8354275206864848\n",
      "f1-score 0.7894943159545275\n"
     ]
    },
    {
     "data": {
      "image/png": "[encoded data removed]",
      "text/plain": [
       "<Figure size 432x432 with 2 Axes>"
      ]
     },
     "metadata": {},
     "output_type": "display_data"
    }
   ],
   "source": [
    "y_pred = rdf.predict(test_embeddings)\n",
    "plot_confusion_matrix(y_test, y_pred)\n",
    "print(f'Accuracy {accuracy_score(y_pred, y_test)}')\n",
    "print(f'f1-score {f1_score(y_pred, y_test)}')"
   ]
  },
  {
   "cell_type": "markdown",
   "metadata": {},
   "source": [
    "## Conclusion"
   ]
  },
  {
   "cell_type": "markdown",
   "metadata": {},
   "source": [
    "Seems like the best model is KNN with a validation score of 0.84."
   ]
  }
 ],
 "metadata": {
  "kernelspec": {
   "display_name": "nlp",
   "language": "python",
   "name": "nlp"
  },
  "language_info": {
   "codemirror_mode": {
    "name": "ipython",
    "version": 3
   },
   "file_extension": ".py",
   "mimetype": "text/x-python",
   "name": "python",
   "nbconvert_exporter": "python",
   "pygments_lexer": "ipython3",
   "version": "3.8.2"
  }
 },
 "nbformat": 4,
 "nbformat_minor": 4
}
