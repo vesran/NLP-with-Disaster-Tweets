{
 "cells": [
  {
   "cell_type": "code",
   "execution_count": 21,
   "metadata": {},
   "outputs": [],
   "source": [
    "import matplotlib.pyplot as plt\n",
    "import pandas as pd\n",
    "import numpy as np\n",
    "import re\n",
    "\n",
    "from sklearn.feature_extraction.text import TfidfVectorizer\n",
    "from nltk.corpus import stopwords\n",
    "from nltk.stem import WordNetLemmatizer\n",
    "from sklearn.metrics import f1_score\n",
    "from sklearn.model_selection import GridSearchCV\n",
    "from sklearn.metrics import f1_score, accuracy_score, plot_confusion_matrix\n",
    "\n",
    "plt.style.use('ggplot')"
   ]
  },
  {
   "cell_type": "markdown",
   "metadata": {},
   "source": [
    "## Data preprocessing"
   ]
  },
  {
   "cell_type": "markdown",
   "metadata": {},
   "source": [
    "### Clean tweets"
   ]
  },
  {
   "cell_type": "code",
   "execution_count": 2,
   "metadata": {},
   "outputs": [],
   "source": [
    "STOPWORDS = stopwords.words('english')"
   ]
  },
  {
   "cell_type": "code",
   "execution_count": 9,
   "metadata": {},
   "outputs": [],
   "source": [
    "# Read & split train test\n",
    "filename = './data/clean_entire_corpus.csv'\n",
    "df = pd.read_csv(filename)\n",
    "df_train = df[df['source'] == 'train'].copy()\n",
    "df_test = df[df['source'] == 'test'].copy()\n",
    "\n",
    "# Remove digits\n",
    "df_train['clean_text'] = df_train['clean_text'].apply(lambda x: re.sub(r'\\w*\\d\\w*', '', x).strip())\n",
    "df_test['clean_text'] = df_test['clean_text'].apply(lambda x: re.sub(r'\\w*\\d\\w*', '', x).strip())\n",
    "\n",
    "# Remove stop words\n",
    "df_train['clean_text'] = df_train['clean_text'].apply(lambda x: ' '.join([w for w in x.split(' ') if w not in STOPWORDS]))\n",
    "df_test['clean_text'] = df_test['clean_text'].apply(lambda x: ' '.join([w for w in x.split(' ') if w not in STOPWORDS]))"
   ]
  },
  {
   "cell_type": "code",
   "execution_count": 10,
   "metadata": {},
   "outputs": [],
   "source": [
    "# Lemmatizing\n",
    "lemm = WordNetLemmatizer()\n",
    "\n",
    "def lemmatize(text):\n",
    "    words = text.split(' ')\n",
    "    words = [lemm.lemmatize(w) for w in words]\n",
    "    words = [lemm.lemmatize(w, pos='a') for w in words]\n",
    "    words = [lemm.lemmatize(w, pos='v') for w in words]\n",
    "    return ' '.join(words)\n",
    "\n",
    "df_train['text'] = df_train['text'].apply(lemmatize)\n",
    "df_test['text'] = df_test['text'].apply(lemmatize)"
   ]
  },
  {
   "cell_type": "markdown",
   "metadata": {},
   "source": [
    "### Vectorize tweets using TF-IDF"
   ]
  },
  {
   "cell_type": "code",
   "execution_count": 11,
   "metadata": {},
   "outputs": [],
   "source": [
    "# Vectorize\n",
    "tfidf = TfidfVectorizer()\n",
    "data_matrix = tfidf.fit_transform(df_train.text)\n",
    "\n",
    "X_train = data_matrix.toarray()\n",
    "X_test = tfidf.transform(df_test.text).toarray()\n",
    "y_train = df_train['target'].values\n",
    "y_test = df_test['target'].values"
   ]
  },
  {
   "cell_type": "markdown",
   "metadata": {},
   "source": [
    "## Training & Evaluating models"
   ]
  },
  {
   "cell_type": "markdown",
   "metadata": {},
   "source": [
    "### Logistic Regression"
   ]
  },
  {
   "cell_type": "code",
   "execution_count": 32,
   "metadata": {},
   "outputs": [
    {
     "name": "stdout",
     "output_type": "stream",
     "text": [
      "Fitting 5 folds for each of 5 candidates, totalling 25 fits\n"
     ]
    },
    {
     "name": "stderr",
     "output_type": "stream",
     "text": [
      "[Parallel(n_jobs=1)]: Using backend SequentialBackend with 1 concurrent workers.\n",
      "[Parallel(n_jobs=1)]: Done  25 out of  25 | elapsed:  4.9min finished\n"
     ]
    },
    {
     "data": {
      "text/plain": [
       "GridSearchCV(estimator=LogisticRegression(),\n",
       "             param_grid={'C': [10, 1, 0.1, 0.01, 0.001]}, verbose=1)"
      ]
     },
     "execution_count": 32,
     "metadata": {},
     "output_type": "execute_result"
    }
   ],
   "source": [
    "from sklearn.linear_model import LogisticRegression\n",
    "\n",
    "parameters = {'C': [10, 1, 0.1, 0.01, 0.001]}\n",
    "logreg = LogisticRegression()\n",
    "model = GridSearchCV(logreg, parameters, verbose=1)\n",
    "model.fit(X_train, y_train)"
   ]
  },
  {
   "cell_type": "code",
   "execution_count": 48,
   "metadata": {},
   "outputs": [
    {
     "data": {
      "image/png": "[encoded data removed]",
      "text/plain": [
       "<Figure size 1080x432 with 1 Axes>"
      ]
     },
     "metadata": {},
     "output_type": "display_data"
    }
   ],
   "source": [
    "stats = pd.DataFrame(model.cv_results_)\n",
    "\n",
    "fig, ax = plt.subplots(figsize=(15, 6))\n",
    "bars = ax.bar(stats['param_C'].astype(str), stats['mean_test_score'])\n",
    "ax.set_xlabel('C')\n",
    "ax.set_ylabel('Accuracy')\n",
    "for rect in bars:\n",
    "    height = rect.get_height()\n",
    "    plt.text(rect.get_x() + rect.get_width()/2.0, height, round(height, 4), ha='center', va='bottom')"
   ]
  },
  {
   "cell_type": "code",
   "execution_count": 31,
   "metadata": {},
   "outputs": [],
   "source": [
    "def show_performance(model):\n",
    "    model.fit(X_train, y_train)\n",
    "    pred = model.predict(X_test)\n",
    "\n",
    "    print(f\"Accuracy : {accuracy_score(y_test, pred)}\")\n",
    "    print(f\"F1-score : {f1_score(y_test, pred)}\")\n",
    "\n",
    "    disp = plot_confusion_matrix(model, X_test, y_test,\n",
    "                        display_labels=['0', '1'],\n",
    "                        cmap=plt.cm.Blues,\n",
    "                        normalize='pred')\n",
    "    disp.ax_.grid(False)"
   ]
  },
  {
   "cell_type": "code",
   "execution_count": 33,
   "metadata": {},
   "outputs": [
    {
     "name": "stdout",
     "output_type": "stream",
     "text": [
      "Accuracy : 0.788231688630095\n",
      "F1-score : 0.7363601678748569\n"
     ]
    },
    {
     "data": {
      "image/png": "[encoded data removed]",
      "text/plain": [
       "<Figure size 432x288 with 2 Axes>"
      ]
     },
     "metadata": {},
     "output_type": "display_data"
    }
   ],
   "source": [
    "model = LogisticRegression(C=1.0)\n",
    "    \n",
    "show_performance(model)"
   ]
  },
  {
   "cell_type": "markdown",
   "metadata": {},
   "source": [
    "### Multinomial Naive Bayes"
   ]
  },
  {
   "cell_type": "code",
   "execution_count": 12,
   "metadata": {},
   "outputs": [
    {
     "name": "stdout",
     "output_type": "stream",
     "text": [
      "Fitting 5 folds for each of 5 candidates, totalling 25 fits\n"
     ]
    },
    {
     "name": "stderr",
     "output_type": "stream",
     "text": [
      "[Parallel(n_jobs=1)]: Using backend SequentialBackend with 1 concurrent workers.\n",
      "[Parallel(n_jobs=1)]: Done  25 out of  25 | elapsed:  1.9min finished\n"
     ]
    },
    {
     "data": {
      "text/plain": [
       "GridSearchCV(estimator=MultinomialNB(),\n",
       "             param_grid={'alpha': [2.0, 1.5, 1.0, 0.5, 0.01]}, verbose=1)"
      ]
     },
     "execution_count": 12,
     "metadata": {},
     "output_type": "execute_result"
    }
   ],
   "source": [
    "from sklearn.naive_bayes import MultinomialNB\n",
    "\n",
    "parameters = {'alpha': [2.0, 1.5, 1.0, 0.5, 0.01],}\n",
    "model = MultinomialNB()\n",
    "grid = GridSearchCV(model, parameters, verbose=1)\n",
    "grid.fit(X_train, y_train)"
   ]
  },
  {
   "cell_type": "code",
   "execution_count": 14,
   "metadata": {},
   "outputs": [
    {
     "data": {
      "image/png": "[encoded data removed]",
      "text/plain": [
       "<Figure size 1080x432 with 1 Axes>"
      ]
     },
     "metadata": {},
     "output_type": "display_data"
    }
   ],
   "source": [
    "stats = pd.DataFrame(grid.cv_results_)\n",
    "\n",
    "fig, ax = plt.subplots(figsize=(15, 6))\n",
    "bars = ax.bar(stats['param_alpha'].astype(str), stats['mean_test_score'])\n",
    "ax.set_xlabel('alpha')\n",
    "ax.set_ylabel('Accuracy')\n",
    "for rect in bars:\n",
    "    height = rect.get_height()\n",
    "    plt.text(rect.get_x() + rect.get_width()/2.0, height, round(height, 4), ha='center', va='bottom')"
   ]
  },
  {
   "cell_type": "code",
   "execution_count": 30,
   "metadata": {},
   "outputs": [
    {
     "name": "stdout",
     "output_type": "stream",
     "text": [
      "Accuracy : 0.782715292675452\n",
      "F1-score : 0.7007176023638666\n"
     ]
    },
    {
     "data": {
      "image/png": "[encoded data removed]",
      "text/plain": [
       "<Figure size 432x288 with 2 Axes>"
      ]
     },
     "metadata": {},
     "output_type": "display_data"
    }
   ],
   "source": [
    "model = MultinomialNB(alpha=1)\n",
    "show_performance(model)"
   ]
  }
 ],
 "metadata": {
  "kernelspec": {
   "display_name": "nlp",
   "language": "python",
   "name": "nlp"
  },
  "language_info": {
   "codemirror_mode": {
    "name": "ipython",
    "version": 3
   },
   "file_extension": ".py",
   "mimetype": "text/x-python",
   "name": "python",
   "nbconvert_exporter": "python",
   "pygments_lexer": "ipython3",
   "version": "3.8.2"
  }
 },
 "nbformat": 4,
 "nbformat_minor": 4
}
