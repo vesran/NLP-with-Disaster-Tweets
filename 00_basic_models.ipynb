{
 "cells": [
  {
   "cell_type": "code",
   "execution_count": 2,
   "metadata": {},
   "outputs": [],
   "source": [
    "from src.preprocessing import clean\n",
    "\n",
    "import matplotlib.pyplot as plt\n",
    "import pandas as pd\n",
    "import numpy as np\n",
    "import re\n",
    "\n",
    "from sklearn.feature_extraction.text import TfidfVectorizer\n",
    "from nltk.corpus import stopwords\n",
    "from nltk.stem import WordNetLemmatizer\n",
    "from sklearn.metrics import f1_score\n",
    "from sklearn.model_selection import GridSearchCV\n",
    "\n",
    "plt.style.use('ggplot')"
   ]
  },
  {
   "cell_type": "markdown",
   "metadata": {},
   "source": [
    "## Data preprocessing"
   ]
  },
  {
   "cell_type": "markdown",
   "metadata": {},
   "source": [
    "### Clean tweets"
   ]
  },
  {
   "cell_type": "code",
   "execution_count": 3,
   "metadata": {},
   "outputs": [],
   "source": [
    "STOPWORDS = stopwords.words('english')"
   ]
  },
  {
   "cell_type": "code",
   "execution_count": 4,
   "metadata": {},
   "outputs": [],
   "source": [
    "def get_vocabulary(iter_sents):\n",
    "    vocab = set()\n",
    "    max_length = 0\n",
    "    for text in iter_sents:\n",
    "        tokens = text.split(' ')\n",
    "        if len(tokens) > max_length:\n",
    "            max_length = len(tokens)\n",
    "        vocab.update(tokens)\n",
    "    return vocab, max_length"
   ]
  },
  {
   "cell_type": "code",
   "execution_count": 5,
   "metadata": {},
   "outputs": [],
   "source": [
    "# Read & split train test\n",
    "filename = './data/entire_corpus.csv'\n",
    "df = pd.read_csv(filename)\n",
    "df_train = df[df['source'] == 'train'].copy()\n",
    "df_test = df[df['source'] == 'test'].copy()\n",
    "\n",
    "# Clean\n",
    "df_train['text'] = df_train['text'].apply(clean)\n",
    "df_test['text'] = df_test['text'].apply(clean)\n",
    "\n",
    "# Remove digits\n",
    "df_train['text'] = df_train['text'].apply(lambda x: re.sub(r'\\w*\\d\\w*', '', x).strip())\n",
    "df_test['text'] = df_test['text'].apply(lambda x: re.sub(r'\\w*\\d\\w*', '', x).strip())\n",
    "\n",
    "# Remove stop words\n",
    "df_train['text'] = df_train['text'].apply(lambda x: ' '.join([w for w in x.split(' ') if w not in STOPWORDS]))\n",
    "df_test['text'] = df_test['text'].apply(lambda x: ' '.join([w for w in x.split(' ') if w not in STOPWORDS]))"
   ]
  },
  {
   "cell_type": "code",
   "execution_count": 7,
   "metadata": {},
   "outputs": [],
   "source": [
    "# Lemmatizing\n",
    "lemm = WordNetLemmatizer()\n",
    "\n",
    "def lemmatize(text):\n",
    "    words = text.split(' ')\n",
    "    words = [lemm.lemmatize(w) for w in words]\n",
    "    words = [lemm.lemmatize(w, pos='a') for w in words]\n",
    "    words = [lemm.lemmatize(w, pos='v') for w in words]\n",
    "    return ' '.join(words)\n",
    "\n",
    "df_train['text'] = df_train['text'].apply(lemmatize)\n",
    "df_test['text'] = df_test['text'].apply(lemmatize)"
   ]
  },
  {
   "cell_type": "markdown",
   "metadata": {},
   "source": [
    "### Vectorize tweets using TF-IDF"
   ]
  },
  {
   "cell_type": "code",
   "execution_count": 8,
   "metadata": {},
   "outputs": [],
   "source": [
    "# Vectorize\n",
    "tfidf = TfidfVectorizer()\n",
    "data_matrix = tfidf.fit_transform(df_train.text)\n",
    "\n",
    "X_train = data_matrix.toarray()\n",
    "X_test = tfidf.transform(df_test.text).toarray()\n",
    "y_train = df_train['target'].values\n",
    "y_test = df_test['target'].values"
   ]
  },
  {
   "cell_type": "markdown",
   "metadata": {},
   "source": [
    "## Training & Evaluating models"
   ]
  },
  {
   "cell_type": "markdown",
   "metadata": {},
   "source": [
    "### Logistic Regression"
   ]
  },
  {
   "cell_type": "code",
   "execution_count": 29,
   "metadata": {},
   "outputs": [
    {
     "name": "stdout",
     "output_type": "stream",
     "text": [
      "Fitting 5 folds for each of 5 candidates, totalling 25 fits\n"
     ]
    },
    {
     "name": "stderr",
     "output_type": "stream",
     "text": [
      "[Parallel(n_jobs=1)]: Using backend SequentialBackend with 1 concurrent workers.\n",
      "C:\\Users\\Light\\.virtualenvs\\disaster-EXdKZbpW\\lib\\site-packages\\sklearn\\linear_model\\_logistic.py:762: ConvergenceWarning: lbfgs failed to converge (status=1):\n",
      "STOP: TOTAL NO. of ITERATIONS REACHED LIMIT.\n",
      "\n",
      "Increase the number of iterations (max_iter) or scale the data as shown in:\n",
      "    https://scikit-learn.org/stable/modules/preprocessing.html\n",
      "Please also refer to the documentation for alternative solver options:\n",
      "    https://scikit-learn.org/stable/modules/linear_model.html#logistic-regression\n",
      "  n_iter_i = _check_optimize_result(\n",
      "[Parallel(n_jobs=1)]: Done  25 out of  25 | elapsed:  2.8min finished\n"
     ]
    },
    {
     "data": {
      "text/plain": [
       "GridSearchCV(estimator=LogisticRegression(),\n",
       "             param_grid={'C': [10, 1, 0.1, 0.01, 0.001]}, verbose=1)"
      ]
     },
     "execution_count": 29,
     "metadata": {},
     "output_type": "execute_result"
    }
   ],
   "source": [
    "from sklearn.linear_model import LogisticRegression\n",
    "\n",
    "parameters = {'C': [10, 1, 0.1, 0.01, 0.001]}\n",
    "logreg = LogisticRegression()\n",
    "model = GridSearchCV(logreg, parameters, verbose=1)\n",
    "model.fit(X_train, y_train)"
   ]
  },
  {
   "cell_type": "code",
   "execution_count": 48,
   "metadata": {},
   "outputs": [
    {
     "data": {
      "image/png": "[encoded data removed]",
      "text/plain": [
       "<Figure size 1080x432 with 1 Axes>"
      ]
     },
     "metadata": {},
     "output_type": "display_data"
    }
   ],
   "source": [
    "stats = pd.DataFrame(model.cv_results_)\n",
    "\n",
    "fig, ax = plt.subplots(figsize=(15, 6))\n",
    "bars = ax.bar(stats['param_C'].astype(str), stats['mean_test_score'])\n",
    "ax.set_xlabel('C')\n",
    "ax.set_ylabel('Accuracy')\n",
    "for rect in bars:\n",
    "    height = rect.get_height()\n",
    "    plt.text(rect.get_x() + rect.get_width()/2.0, height, round(height, 4), ha='center', va='bottom')"
   ]
  },
  {
   "cell_type": "code",
   "execution_count": null,
   "metadata": {},
   "outputs": [],
   "source": [
    "from sklearn.metrics import f1_score, accuracy_score, plot_confusion_matrix\n",
    "\n",
    "model = LigosticRegression(C=1.0)\n",
    "\n",
    "def show_performance(model):\n",
    "    model.fit(X_train, y_train)\n",
    "    pred = model.predict(X_test)\n",
    "\n",
    "    print(f\"Accuracy : {accuracy_score(y_test, pred)}\")\n",
    "    print(f\"F1-score : {f1_score(y_test, pred)}\")\n",
    "\n",
    "    plot_confusion_matrix(model, X_test, y_test,\n",
    "                        display_labels=['0', '1'],\n",
    "                        cmap=plt.cm.Blues,\n",
    "                        normalize=True)\n",
    "    \n",
    "show_performance(model)"
   ]
  },
  {
   "cell_type": "markdown",
   "metadata": {},
   "source": [
    "#### SVM"
   ]
  },
  {
   "cell_type": "code",
   "execution_count": null,
   "metadata": {},
   "outputs": [],
   "source": [
    "from sklearn.svm import SVC\n",
    "\n",
    "parameters = {'C': [1.5, 1.0, 0.5],\n",
    "             'kernel': ['poly'],\n",
    "             'degree': [2, 3, 4]}\n",
    "model = SVC()\n",
    "grid = GridSearchCV(model, parameters, verbose=1)\n",
    "grid.fit(X_train, y_train)"
   ]
  },
  {
   "cell_type": "code",
   "execution_count": null,
   "metadata": {},
   "outputs": [],
   "source": [
    "stats = pd.DataFrame(grid.cv_results_)\n",
    "stats\n",
    "\n"
   ]
  },
  {
   "cell_type": "code",
   "execution_count": null,
   "metadata": {},
   "outputs": [],
   "source": [
    "model = SVC(grid.best_params_)\n",
    "show_performance(model)"
   ]
  },
  {
   "cell_type": "markdown",
   "metadata": {},
   "source": [
    "### Multinomial Naive Bayes"
   ]
  },
  {
   "cell_type": "code",
   "execution_count": null,
   "metadata": {},
   "outputs": [],
   "source": [
    "from sklearn.naive_bayes import MultinomialNB\n",
    "\n",
    "parameters = {'alpha': [2.0, 1.5, 1.0, 0.5, 0.01],}\n",
    "model = MultinomialNB()\n",
    "grid = GridSearchCV(model, parameters, verbose=1)\n",
    "grid.fit(X_train, y_train)"
   ]
  },
  {
   "cell_type": "code",
   "execution_count": null,
   "metadata": {},
   "outputs": [],
   "source": [
    "stats = pd.DataFrame(grid.cv_results_)\n",
    "\n",
    "fig, ax = plt.subplots(figsize=(15, 6))\n",
    "bars = ax.bar(stats['param_C'].astype(str), stats['mean_test_score'])\n",
    "ax.set_xlabel('alpha')\n",
    "ax.set_ylabel('Accuracy')\n",
    "for rect in bars:\n",
    "    height = rect.get_height()\n",
    "    plt.text(rect.get_x() + rect.get_width()/2.0, height, round(height, 4), ha='center', va='bottom')"
   ]
  },
  {
   "cell_type": "code",
   "execution_count": null,
   "metadata": {},
   "outputs": [],
   "source": [
    "model = MultinomialNB(grid.best_params_)\n",
    "show_performance(model)"
   ]
  }
 ],
 "metadata": {
  "kernelspec": {
   "display_name": "nlp",
   "language": "python",
   "name": "nlp"
  },
  "language_info": {
   "codemirror_mode": {
    "name": "ipython",
    "version": 3
   },
   "file_extension": ".py",
   "mimetype": "text/x-python",
   "name": "python",
   "nbconvert_exporter": "python",
   "pygments_lexer": "ipython3",
   "version": "3.8.2"
  }
 },
 "nbformat": 4,
 "nbformat_minor": 4
}
