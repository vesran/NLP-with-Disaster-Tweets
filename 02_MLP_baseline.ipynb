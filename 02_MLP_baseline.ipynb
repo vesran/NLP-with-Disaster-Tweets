{
 "cells": [
  {
   "cell_type": "code",
   "execution_count": 18,
   "metadata": {},
   "outputs": [],
   "source": [
    "import tensorflow as tf\n",
    "import pandas as pd\n",
    "import numpy as np\n",
    "import os\n",
    "import matplotlib.pyplot as plt\n",
    "\n",
    "from sklearn.metrics import f1_score\n",
    "from sklearn.model_selection import GridSearchCV\n",
    "from sklearn.metrics import f1_score, accuracy_score, plot_confusion_matrix"
   ]
  },
  {
   "cell_type": "code",
   "execution_count": 4,
   "metadata": {},
   "outputs": [],
   "source": [
    "# Read & split train test\n",
    "filename = './data/clean_entire_corpus.csv'\n",
    "df = pd.read_csv(filename)\n",
    "df_train = df[df['source'] == 'train'].copy()\n",
    "df_test = df[df['source'] == 'test'].copy()"
   ]
  },
  {
   "cell_type": "code",
   "execution_count": 5,
   "metadata": {},
   "outputs": [],
   "source": [
    "# Encoding\n",
    "def get_vocabulary(iter_sents):\n",
    "    vocab = set()\n",
    "    max_length = 0\n",
    "    for text in iter_sents:\n",
    "        tokens = text.split(' ')\n",
    "        if len(tokens) > max_length:\n",
    "            max_length = len(tokens)\n",
    "        vocab.update(tokens)\n",
    "    return vocab, max_length\n",
    "\n",
    "vocab, max_length = get_vocabulary(df_train['clean_text'])\n",
    "\n",
    "tokenizer = tf.keras.preprocessing.text.Tokenizer()\n",
    "tokenizer.fit_on_texts(df_train['clean_text'])\n",
    "sequences_train = tokenizer.texts_to_sequences(df_train['clean_text'])\n",
    "sequences_test = tokenizer.texts_to_sequences(df_test['clean_text'])"
   ]
  },
  {
   "cell_type": "code",
   "execution_count": 6,
   "metadata": {},
   "outputs": [],
   "source": [
    "# Padding\n",
    "padded_seqs_train = tf.keras.preprocessing.sequence.pad_sequences(sequences_train, maxlen=max_length,\n",
    "                                                            padding='post', truncating='post')\n",
    "padded_seqs_test = tf.keras.preprocessing.sequence.pad_sequences(sequences_test, maxlen=max_length,\n",
    "                                                            padding='post', truncating='post')"
   ]
  },
  {
   "cell_type": "code",
   "execution_count": 7,
   "metadata": {},
   "outputs": [],
   "source": [
    "# Data sets\n",
    "X_train = padded_seqs_train\n",
    "X_test = padded_seqs_test\n",
    "y_train = df_train['target'].values\n",
    "y_test = df_test['target'].values\n",
    "\n",
    "train_ds = tf.data.Dataset.from_tensor_slices((X_train, y_train)).shuffle(1000).batch(100)\n",
    "test_ds = tf.data.Dataset.from_tensor_slices((X_test, y_test)).batch(100)"
   ]
  },
  {
   "cell_type": "code",
   "execution_count": 8,
   "metadata": {},
   "outputs": [
    {
     "name": "stdout",
     "output_type": "stream",
     "text": [
      "Reading lines\n",
      "Extract embeddings\n",
      "Create embeddings matrix\n"
     ]
    }
   ],
   "source": [
    "# Build an index for embeddings\n",
    "embeddings_index = {}\n",
    "EMBEDDINGS_PATH = '/datascience/embeddings'\n",
    "EMBEDDINGS_LENGTH = 50\n",
    "print('Reading lines')\n",
    "with open(os.path.join(EMBEDDINGS_PATH, 'glove.6B.50d.txt'), encoding='utf-8') as f:\n",
    "    lines = f.readlines()\n",
    "\n",
    "print('Extract embeddings')\n",
    "for line in lines:\n",
    "    values = line.split()\n",
    "    word = values[0]\n",
    "    coefs = np.asarray(values[1:], dtype='float32')\n",
    "    embeddings_index[word] = coefs\n",
    "\n",
    "print('Create embeddings matrix')\n",
    "word_index = tokenizer.word_index\n",
    "embedding_matrix = np.zeros((len(word_index) + 1, EMBEDDINGS_LENGTH))\n",
    "for word, i in word_index.items():\n",
    "    embedding_vector = embeddings_index.get(word)\n",
    "    if embedding_vector is not None:\n",
    "        # words not found in embedding index will be all-zeros.\n",
    "        embedding_matrix[i] = embedding_vector\n"
   ]
  },
  {
   "cell_type": "code",
   "execution_count": 9,
   "metadata": {},
   "outputs": [
    {
     "name": "stdout",
     "output_type": "stream",
     "text": [
      "Epoch 1/10\n",
      "77/77 [==============================] - 1s 10ms/step - loss: 0.4963 - acc: 0.7688 - val_loss: 0.4694 - val_acc: 0.7898\n",
      "Epoch 2/10\n",
      "77/77 [==============================] - 1s 7ms/step - loss: 0.3767 - acc: 0.8362 - val_loss: 0.4643 - val_acc: 0.7882\n",
      "Epoch 3/10\n",
      "77/77 [==============================] - 1s 7ms/step - loss: 0.3074 - acc: 0.8778 - val_loss: 0.4740 - val_acc: 0.7824\n",
      "Epoch 4/10\n",
      "77/77 [==============================] - 1s 7ms/step - loss: 0.2430 - acc: 0.9117 - val_loss: 0.5003 - val_acc: 0.7858\n",
      "Epoch 5/10\n",
      "77/77 [==============================] - 1s 7ms/step - loss: 0.1884 - acc: 0.9380 - val_loss: 0.5214 - val_acc: 0.7818\n",
      "Epoch 6/10\n",
      "77/77 [==============================] - 1s 7ms/step - loss: 0.1489 - acc: 0.9544 - val_loss: 0.5481 - val_acc: 0.7809\n",
      "Epoch 7/10\n",
      "77/77 [==============================] - 1s 7ms/step - loss: 0.1250 - acc: 0.9652 - val_loss: 0.5740 - val_acc: 0.7769\n",
      "Epoch 8/10\n",
      "77/77 [==============================] - 1s 7ms/step - loss: 0.1057 - acc: 0.9707 - val_loss: 0.6019 - val_acc: 0.7830\n",
      "Epoch 9/10\n",
      "77/77 [==============================] - 1s 7ms/step - loss: 0.0971 - acc: 0.9727 - val_loss: 0.6140 - val_acc: 0.7885\n",
      "Epoch 10/10\n",
      "77/77 [==============================] - 1s 7ms/step - loss: 0.0874 - acc: 0.9757 - val_loss: 0.6489 - val_acc: 0.7821\n"
     ]
    },
    {
     "data": {
      "text/plain": [
       "<tensorflow.python.keras.callbacks.History at 0x235de4ba610>"
      ]
     },
     "execution_count": 9,
     "metadata": {},
     "output_type": "execute_result"
    }
   ],
   "source": [
    "# Model\n",
    "model = tf.keras.Sequential()\n",
    "model.add(a := tf.keras.layers.Embedding(input_dim=len(word_index)+1, output_dim=EMBEDDINGS_LENGTH, input_length=max_length,\n",
    "                                         weights=[embedding_matrix], trainable=False))\n",
    "model.add(b := tf.keras.layers.Flatten())\n",
    "model.add(c := tf.keras.layers.Dense(256, activation='relu'))\n",
    "model.add(d := tf.keras.layers.Dense(1, activation='sigmoid'))\n",
    "\n",
    "optimizer = tf.keras.optimizers.Adam(learning_rate=0.001)\n",
    "model.compile(optimizer=optimizer, loss='binary_crossentropy', metrics=['acc'])\n",
    "\n",
    "model.fit(train_ds, epochs=10, validation_data=test_ds)"
   ]
  },
  {
   "cell_type": "code",
   "execution_count": 19,
   "metadata": {},
   "outputs": [
    {
     "name": "stdout",
     "output_type": "stream",
     "text": [
      "238/238 [==============================] - 1s 4ms/step - loss: 0.0739 - acc: 0.9773\n",
      "[1 1 1 ... 0 1 1]\n",
      "Accuracy : 0.7876187557462457\n",
      "F1-score : 0.7375993941688753\n"
     ]
    },
    {
     "ename": "ValueError",
     "evalue": "plot_confusion_matrix only supports classifiers",
     "output_type": "error",
     "traceback": [
      "\u001b[1;31m---------------------------------------------------------------------------\u001b[0m",
      "\u001b[1;31mValueError\u001b[0m                                Traceback (most recent call last)",
      "\u001b[1;32m<ipython-input-19-f1ae2baee10f>\u001b[0m in \u001b[0;36m<module>\u001b[1;34m\u001b[0m\n\u001b[0;32m     14\u001b[0m     \u001b[0mdisp\u001b[0m\u001b[1;33m.\u001b[0m\u001b[0max_\u001b[0m\u001b[1;33m.\u001b[0m\u001b[0mgrid\u001b[0m\u001b[1;33m(\u001b[0m\u001b[1;32mFalse\u001b[0m\u001b[1;33m)\u001b[0m\u001b[1;33m\u001b[0m\u001b[1;33m\u001b[0m\u001b[0m\n\u001b[0;32m     15\u001b[0m \u001b[1;33m\u001b[0m\u001b[0m\n\u001b[1;32m---> 16\u001b[1;33m \u001b[0mshow_performance\u001b[0m\u001b[1;33m(\u001b[0m\u001b[0mmodel\u001b[0m\u001b[1;33m)\u001b[0m\u001b[1;33m\u001b[0m\u001b[1;33m\u001b[0m\u001b[0m\n\u001b[0m",
      "\u001b[1;32m<ipython-input-19-f1ae2baee10f>\u001b[0m in \u001b[0;36mshow_performance\u001b[1;34m(model)\u001b[0m\n\u001b[0;32m      8\u001b[0m     \u001b[0mprint\u001b[0m\u001b[1;33m(\u001b[0m\u001b[1;34mf\"F1-score : {f1_score(y_test, pred)}\"\u001b[0m\u001b[1;33m)\u001b[0m\u001b[1;33m\u001b[0m\u001b[1;33m\u001b[0m\u001b[0m\n\u001b[0;32m      9\u001b[0m \u001b[1;33m\u001b[0m\u001b[0m\n\u001b[1;32m---> 10\u001b[1;33m     disp = plot_confusion_matrix(model, X_test, y_test,\n\u001b[0m\u001b[0;32m     11\u001b[0m                         \u001b[0mdisplay_labels\u001b[0m\u001b[1;33m=\u001b[0m\u001b[1;33m[\u001b[0m\u001b[1;34m'0'\u001b[0m\u001b[1;33m,\u001b[0m \u001b[1;34m'1'\u001b[0m\u001b[1;33m]\u001b[0m\u001b[1;33m,\u001b[0m\u001b[1;33m\u001b[0m\u001b[1;33m\u001b[0m\u001b[0m\n\u001b[0;32m     12\u001b[0m                         \u001b[0mcmap\u001b[0m\u001b[1;33m=\u001b[0m\u001b[0mplt\u001b[0m\u001b[1;33m.\u001b[0m\u001b[0mcm\u001b[0m\u001b[1;33m.\u001b[0m\u001b[0mBlues\u001b[0m\u001b[1;33m,\u001b[0m\u001b[1;33m\u001b[0m\u001b[1;33m\u001b[0m\u001b[0m\n",
      "\u001b[1;32m~\\.virtualenvs\\disaster-EXdKZbpW\\lib\\site-packages\\sklearn\\utils\\validation.py\u001b[0m in \u001b[0;36minner_f\u001b[1;34m(*args, **kwargs)\u001b[0m\n\u001b[0;32m     71\u001b[0m                           FutureWarning)\n\u001b[0;32m     72\u001b[0m         \u001b[0mkwargs\u001b[0m\u001b[1;33m.\u001b[0m\u001b[0mupdate\u001b[0m\u001b[1;33m(\u001b[0m\u001b[1;33m{\u001b[0m\u001b[0mk\u001b[0m\u001b[1;33m:\u001b[0m \u001b[0marg\u001b[0m \u001b[1;32mfor\u001b[0m \u001b[0mk\u001b[0m\u001b[1;33m,\u001b[0m \u001b[0marg\u001b[0m \u001b[1;32min\u001b[0m \u001b[0mzip\u001b[0m\u001b[1;33m(\u001b[0m\u001b[0msig\u001b[0m\u001b[1;33m.\u001b[0m\u001b[0mparameters\u001b[0m\u001b[1;33m,\u001b[0m \u001b[0margs\u001b[0m\u001b[1;33m)\u001b[0m\u001b[1;33m}\u001b[0m\u001b[1;33m)\u001b[0m\u001b[1;33m\u001b[0m\u001b[1;33m\u001b[0m\u001b[0m\n\u001b[1;32m---> 73\u001b[1;33m         \u001b[1;32mreturn\u001b[0m \u001b[0mf\u001b[0m\u001b[1;33m(\u001b[0m\u001b[1;33m**\u001b[0m\u001b[0mkwargs\u001b[0m\u001b[1;33m)\u001b[0m\u001b[1;33m\u001b[0m\u001b[1;33m\u001b[0m\u001b[0m\n\u001b[0m\u001b[0;32m     74\u001b[0m     \u001b[1;32mreturn\u001b[0m \u001b[0minner_f\u001b[0m\u001b[1;33m\u001b[0m\u001b[1;33m\u001b[0m\u001b[0m\n\u001b[0;32m     75\u001b[0m \u001b[1;33m\u001b[0m\u001b[0m\n",
      "\u001b[1;32m~\\.virtualenvs\\disaster-EXdKZbpW\\lib\\site-packages\\sklearn\\metrics\\_plot\\confusion_matrix.py\u001b[0m in \u001b[0;36mplot_confusion_matrix\u001b[1;34m(estimator, X, y_true, labels, sample_weight, normalize, display_labels, include_values, xticks_rotation, values_format, cmap, ax)\u001b[0m\n\u001b[0;32m    215\u001b[0m \u001b[1;33m\u001b[0m\u001b[0m\n\u001b[0;32m    216\u001b[0m     \u001b[1;32mif\u001b[0m \u001b[1;32mnot\u001b[0m \u001b[0mis_classifier\u001b[0m\u001b[1;33m(\u001b[0m\u001b[0mestimator\u001b[0m\u001b[1;33m)\u001b[0m\u001b[1;33m:\u001b[0m\u001b[1;33m\u001b[0m\u001b[1;33m\u001b[0m\u001b[0m\n\u001b[1;32m--> 217\u001b[1;33m         \u001b[1;32mraise\u001b[0m \u001b[0mValueError\u001b[0m\u001b[1;33m(\u001b[0m\u001b[1;34m\"plot_confusion_matrix only supports classifiers\"\u001b[0m\u001b[1;33m)\u001b[0m\u001b[1;33m\u001b[0m\u001b[1;33m\u001b[0m\u001b[0m\n\u001b[0m\u001b[0;32m    218\u001b[0m \u001b[1;33m\u001b[0m\u001b[0m\n\u001b[0;32m    219\u001b[0m     \u001b[0my_pred\u001b[0m \u001b[1;33m=\u001b[0m \u001b[0mestimator\u001b[0m\u001b[1;33m.\u001b[0m\u001b[0mpredict\u001b[0m\u001b[1;33m(\u001b[0m\u001b[0mX\u001b[0m\u001b[1;33m)\u001b[0m\u001b[1;33m\u001b[0m\u001b[1;33m\u001b[0m\u001b[0m\n",
      "\u001b[1;31mValueError\u001b[0m: plot_confusion_matrix only supports classifiers"
     ]
    }
   ],
   "source": [
    "def show_performance(model):\n",
    "    model.fit(X_train, y_train)\n",
    "    pred = model.predict(X_test).reshape(1, -1)[0]\n",
    "    pred = np.around(pred).astype(int)\n",
    "    print(pred)\n",
    "\n",
    "    print(f\"Accuracy : {accuracy_score(y_test, pred)}\")\n",
    "    print(f\"F1-score : {f1_score(y_test, pred)}\")\n",
    "\n",
    "    disp = plot_confusion_matrix(model, X_test, y_test,\n",
    "                        display_labels=['0', '1'],\n",
    "                        cmap=plt.cm.Blues,\n",
    "                        normalize='pred')\n",
    "    disp.ax_.grid(False)\n",
    "    \n",
    "show_performance(model)"
   ]
  }
 ],
 "metadata": {
  "kernelspec": {
   "display_name": "nlp",
   "language": "python",
   "name": "nlp"
  },
  "language_info": {
   "codemirror_mode": {
    "name": "ipython",
    "version": 3
   },
   "file_extension": ".py",
   "mimetype": "text/x-python",
   "name": "python",
   "nbconvert_exporter": "python",
   "pygments_lexer": "ipython3",
   "version": "3.8.2"
  }
 },
 "nbformat": 4,
 "nbformat_minor": 4
}
